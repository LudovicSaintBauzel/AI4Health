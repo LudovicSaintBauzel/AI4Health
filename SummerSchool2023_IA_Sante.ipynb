{
  "nbformat": 4,
  "nbformat_minor": 0,
  "metadata": {
    "colab": {
      "provenance": [],
      "toc_visible": true,
      "authorship_tag": "ABX9TyPNIx3f9Jfc8M7MGENOqhHU",
      "include_colab_link": true
    },
    "kernelspec": {
      "name": "python3",
      "display_name": "Python 3"
    },
    "language_info": {
      "name": "python"
    }
  },
  "cells": [
    {
      "cell_type": "markdown",
      "metadata": {
        "id": "view-in-github",
        "colab_type": "text"
      },
      "source": [
        "<a href=\"https://colab.research.google.com/github/LudovicSaintBauzel/AI4Health/blob/main/SummerSchool2023_IA_Sante.ipynb\" target=\"_parent\"><img src=\"https://colab.research.google.com/assets/colab-badge.svg\" alt=\"Open In Colab\"/></a>"
      ]
    },
    {
      "cell_type": "markdown",
      "source": [
        "Initialisation des librairies pour le travail."
      ],
      "metadata": {
        "id": "MmiCawmLuazh"
      }
    },
    {
      "cell_type": "code",
      "execution_count": 1,
      "metadata": {
        "id": "k4SI4GvZtz26"
      },
      "outputs": [],
      "source": [
        "import pandas as pd\n",
        "import os\n",
        "import glob\n",
        "import math\n",
        "from sklearn.neural_network import MLPRegressor\n",
        "from sklearn.preprocessing import StandardScaler"
      ]
    },
    {
      "cell_type": "markdown",
      "source": [],
      "metadata": {
        "id": "9QI4ZeCtuE1H"
      }
    },
    {
      "cell_type": "markdown",
      "source": [
        "# Chargement des données"
      ],
      "metadata": {
        "id": "8M9-NdiOuGm_"
      }
    },
    {
      "cell_type": "markdown",
      "source": [],
      "metadata": {
        "id": "Gz6a8TX5t0cN"
      }
    },
    {
      "cell_type": "code",
      "source": [
        "!curl -O https://nuage.isir.upmc.fr/index.php/s/ZiPJ3RFGFaF3HBs/download/records.zip"
      ],
      "metadata": {
        "colab": {
          "base_uri": "https://localhost:8080/"
        },
        "id": "1378KaG9uV-r",
        "outputId": "a0ff7879-cb0d-4837-e29d-2f0a65ce4786"
      },
      "execution_count": 32,
      "outputs": [
        {
          "output_type": "stream",
          "name": "stdout",
          "text": [
            "  % Total    % Received % Xferd  Average Speed   Time    Time     Time  Current\n",
            "                                 Dload  Upload   Total   Spent    Left  Speed\n",
            "100 18.9M  100 18.9M    0     0  10.7M      0  0:00:01  0:00:01 --:--:-- 10.7M\n"
          ]
        }
      ]
    },
    {
      "cell_type": "markdown",
      "source": [
        "# Analyse et travail sur les données"
      ],
      "metadata": {
        "id": "V7l_8Ae0uLq7"
      }
    },
    {
      "cell_type": "code",
      "source": [
        "!unzip -o records.zip\n",
        "!ls "
      ],
      "metadata": {
        "colab": {
          "base_uri": "https://localhost:8080/"
        },
        "id": "DCofHZeFuUX_",
        "outputId": "d02011b4-e97e-4407-aac9-69c78c2980af"
      },
      "execution_count": 35,
      "outputs": [
        {
          "output_type": "stream",
          "name": "stdout",
          "text": [
            "Archive:  records.zip\n",
            "  inflating: records/.DS_Store       \n",
            "  inflating: __MACOSX/records/._.DS_Store  \n",
            "  inflating: records/DESCRIPTIONS_DONNEES.txt  \n",
            "  inflating: __MACOSX/records/._DESCRIPTIONS_DONNEES.txt  \n",
            " extracting: records/move/testen.txt  \n",
            "  inflating: records/move/follow_traj.txt  \n",
            "  inflating: records/move/fuzzyout.txt  \n",
            " extracting: records/move/traj.txt   \n",
            "  inflating: records/move/trajout.txt  \n",
            " extracting: records/move/rawsinal.txt  \n",
            "  inflating: records/move/move_effort.txt  \n",
            " extracting: records/OL/testen.txt   \n",
            "  inflating: records/OL/follow_traj.txt  \n",
            "  inflating: records/OL/fuzzyout.txt  \n",
            " extracting: records/OL/traj.txt     \n",
            "  inflating: records/OL/trajout.txt  \n",
            " extracting: records/OL/rawsinal.txt  \n",
            " extracting: records/OL/move_effort.txt  \n",
            "  inflating: records/fx/.DS_Store    \n",
            "  inflating: __MACOSX/records/fx/._.DS_Store  \n",
            "  inflating: records/fuzzy/.DS_Store  \n",
            "  inflating: __MACOSX/records/fuzzy/._.DS_Store  \n",
            " extracting: records/MMESA/testen.txt  \n",
            "  inflating: records/MMESA/follow_traj.txt  \n",
            "  inflating: records/MMESA/fuzzyout.txt  \n",
            " extracting: records/MMESA/traj.txt  \n",
            "  inflating: records/MMESA/trajout.txt  \n",
            " extracting: records/MMESA/rawsinal.txt  \n",
            "  inflating: records/MMESA/move_effort.txt  \n",
            " extracting: records/LE1804/testen.txt  \n",
            "  inflating: records/LE1804/follow_traj.txt  \n",
            "  inflating: records/LE1804/fuzzyout.txt  \n",
            " extracting: records/LE1804/traj.txt  \n",
            "  inflating: records/LE1804/trajout.txt  \n",
            " extracting: records/LE1804/rawsinal.txt  \n",
            "  inflating: records/LE1804/move_effort.txt  \n",
            " extracting: records/move/test_ludo4/testen.txt  \n",
            "  inflating: records/move/test_ludo4/follow_traj.txt  \n",
            "  inflating: records/move/test_ludo4/fuzzyout.txt  \n",
            " extracting: records/move/test_ludo4/traj.txt  \n",
            "  inflating: records/move/test_ludo4/trajout.txt  \n",
            " extracting: records/move/test_ludo4/rawsinal.txt  \n",
            "  inflating: records/move/test_ludo4/move_effort.txt  \n",
            " extracting: records/move/test_ludo8/testen.txt  \n",
            "  inflating: records/move/test_ludo8/follow_traj.txt  \n",
            "  inflating: records/move/test_ludo8/fuzzyout.txt  \n",
            " extracting: records/move/test_ludo8/traj.txt  \n",
            "  inflating: records/move/test_ludo8/trajout.txt  \n",
            " extracting: records/move/test_ludo8/rawsinal.txt  \n",
            "  inflating: records/move/test_ludo8/move_effort.txt  \n",
            " extracting: records/MA/move6/testen.txt  \n",
            "  inflating: records/MA/move6/follow_traj.txt  \n",
            "  inflating: records/MA/move6/fuzzyout.txt  \n",
            " extracting: records/MA/move6/traj.txt  \n",
            "  inflating: records/MA/move6/trajout.txt  \n",
            " extracting: records/MA/move6/rawsinal.txt  \n",
            "  inflating: records/MA/move6/move_effort.txt  \n",
            " extracting: records/MA/fx9/testen.txt  \n",
            "  inflating: records/MA/fx9/follow_traj.txt  \n",
            "  inflating: records/MA/fx9/fuzzyout.txt  \n",
            " extracting: records/MA/fx9/traj.txt  \n",
            "  inflating: records/MA/fx9/trajout.txt  \n",
            " extracting: records/MA/fx9/rawsinal.txt  \n",
            "  inflating: records/MA/fx9/move_effort.txt  \n",
            " extracting: records/MA/fx7/testen.txt  \n",
            "  inflating: records/MA/fx7/follow_traj.txt  \n",
            "  inflating: records/MA/fx7/fuzzyout.txt  \n",
            " extracting: records/MA/fx7/traj.txt  \n",
            "  inflating: records/MA/fx7/trajout.txt  \n",
            " extracting: records/MA/fx7/rawsinal.txt  \n",
            "  inflating: records/MA/fx7/move_effort.txt  \n",
            " extracting: records/MA/move7/testen.txt  \n",
            "  inflating: records/MA/move7/follow_traj.txt  \n",
            "  inflating: records/MA/move7/fuzzyout.txt  \n",
            " extracting: records/MA/move7/traj.txt  \n",
            "  inflating: records/MA/move7/trajout.txt  \n",
            " extracting: records/MA/move7/rawsinal.txt  \n",
            "  inflating: records/MA/move7/move_effort.txt  \n",
            " extracting: records/MA/fx6/testen.txt  \n",
            "  inflating: records/MA/fx6/follow_traj.txt  \n",
            "  inflating: records/MA/fx6/fuzzyout.txt  \n",
            " extracting: records/MA/fx6/traj.txt  \n",
            "  inflating: records/MA/fx6/trajout.txt  \n",
            " extracting: records/MA/fx6/rawsinal.txt  \n",
            "  inflating: records/MA/fx6/move_effort.txt  \n",
            " extracting: records/MA/fx1/testen.txt  \n",
            "  inflating: records/MA/fx1/follow_traj.txt  \n",
            "  inflating: records/MA/fx1/fuzzyout.txt  \n",
            " extracting: records/MA/fx1/traj.txt  \n",
            "  inflating: records/MA/fx1/trajout.txt  \n",
            " extracting: records/MA/fx1/rawsinal.txt  \n",
            "  inflating: records/MA/fx1/move_effort.txt  \n",
            " extracting: records/MA/fx8/testen.txt  \n",
            "  inflating: records/MA/fx8/follow_traj.txt  \n",
            "  inflating: records/MA/fx8/fuzzyout.txt  \n",
            " extracting: records/MA/fx8/traj.txt  \n",
            "  inflating: records/MA/fx8/trajout.txt  \n",
            " extracting: records/MA/fx8/rawsinal.txt  \n",
            "  inflating: records/MA/fx8/move_effort.txt  \n",
            " extracting: records/MA/traj3/testen.txt  \n",
            "  inflating: records/MA/traj3/follow_traj.txt  \n",
            "  inflating: records/MA/traj3/fuzzyout.txt  \n",
            " extracting: records/MA/traj3/traj.txt  \n",
            "  inflating: records/MA/traj3/trajout.txt  \n",
            " extracting: records/MA/traj3/rawsinal.txt  \n",
            "  inflating: records/MA/traj3/move_effort.txt  \n",
            " extracting: records/MA/traj4/testen.txt  \n",
            "  inflating: records/MA/traj4/follow_traj.txt  \n",
            "  inflating: records/MA/traj4/fuzzyout.txt  \n",
            " extracting: records/MA/traj4/traj.txt  \n",
            "  inflating: records/MA/traj4/trajout.txt  \n",
            " extracting: records/MA/traj4/rawsinal.txt  \n",
            "  inflating: records/MA/traj4/move_effort.txt  \n",
            " extracting: records/MA/traj5/testen.txt  \n",
            "  inflating: records/MA/traj5/follow_traj.txt  \n",
            "  inflating: records/MA/traj5/fuzzyout.txt  \n",
            " extracting: records/MA/traj5/traj.txt  \n",
            "  inflating: records/MA/traj5/trajout.txt  \n",
            " extracting: records/MA/traj5/rawsinal.txt  \n",
            "  inflating: records/MA/traj5/move_effort.txt  \n",
            " extracting: records/MA/traj2/testen.txt  \n",
            "  inflating: records/MA/traj2/follow_traj.txt  \n",
            "  inflating: records/MA/traj2/fuzzyout.txt  \n",
            " extracting: records/MA/traj2/traj.txt  \n",
            "  inflating: records/MA/traj2/trajout.txt  \n",
            " extracting: records/MA/traj2/rawsinal.txt  \n",
            "  inflating: records/MA/traj2/move_effort.txt  \n",
            " extracting: records/MA/fuz2/testen.txt  \n",
            "  inflating: records/MA/fuz2/follow_traj.txt  \n",
            "  inflating: records/MA/fuz2/fuzzyout.txt  \n",
            " extracting: records/MA/fuz2/traj.txt  \n",
            "  inflating: records/MA/fuz2/trajout.txt  \n",
            " extracting: records/MA/fuz2/rawsinal.txt  \n",
            "  inflating: records/MA/fuz2/move_effort.txt  \n",
            " extracting: records/MA/fuz4/testen.txt  \n",
            "  inflating: records/MA/fuz4/follow_traj.txt  \n",
            "  inflating: records/MA/fuz4/fuzzyout.txt  \n",
            " extracting: records/MA/fuz4/traj.txt  \n",
            "  inflating: records/MA/fuz4/trajout.txt  \n",
            " extracting: records/MA/fuz4/rawsinal.txt  \n",
            "  inflating: records/MA/fuz4/move_effort.txt  \n",
            " extracting: records/MA/fuz3/testen.txt  \n",
            "  inflating: records/MA/fuz3/follow_traj.txt  \n",
            "  inflating: records/MA/fuz3/fuzzyout.txt  \n",
            " extracting: records/MA/fuz3/traj.txt  \n",
            "  inflating: records/MA/fuz3/trajout.txt  \n",
            " extracting: records/MA/fuz3/rawsinal.txt  \n",
            "  inflating: records/MA/fuz3/move_effort.txt  \n",
            " extracting: records/MA/fx10/testen.txt  \n",
            "  inflating: records/MA/fx10/follow_traj.txt  \n",
            "  inflating: records/MA/fx10/fuzzyout.txt  \n",
            " extracting: records/MA/fx10/traj.txt  \n",
            "  inflating: records/MA/fx10/trajout.txt  \n",
            " extracting: records/MA/fx10/rawsinal.txt  \n",
            "  inflating: records/MA/fx10/move_effort.txt  \n",
            " extracting: records/MA/fx4/testen.txt  \n",
            "  inflating: records/MA/fx4/follow_traj.txt  \n",
            "  inflating: records/MA/fx4/fuzzyout.txt  \n",
            " extracting: records/MA/fx4/traj.txt  \n",
            "  inflating: records/MA/fx4/trajout.txt  \n",
            " extracting: records/MA/fx4/rawsinal.txt  \n",
            "  inflating: records/MA/fx4/move_effort.txt  \n",
            " extracting: records/MA/fx3/testen.txt  \n",
            "  inflating: records/MA/fx3/follow_traj.txt  \n",
            "  inflating: records/MA/fx3/fuzzyout.txt  \n",
            " extracting: records/MA/fx3/traj.txt  \n",
            "  inflating: records/MA/fx3/trajout.txt  \n",
            " extracting: records/MA/fx3/rawsinal.txt  \n",
            "  inflating: records/MA/fx3/move_effort.txt  \n",
            " extracting: records/MA/move2/testen.txt  \n",
            "  inflating: records/MA/move2/follow_traj.txt  \n",
            "  inflating: records/MA/move2/fuzzyout.txt  \n",
            " extracting: records/MA/move2/traj.txt  \n",
            "  inflating: records/MA/move2/trajout.txt  \n",
            " extracting: records/MA/move2/rawsinal.txt  \n",
            "  inflating: records/MA/move2/move_effort.txt  \n",
            " extracting: records/MA/move5/testen.txt  \n",
            "  inflating: records/MA/move5/follow_traj.txt  \n",
            "  inflating: records/MA/move5/fuzzyout.txt  \n",
            " extracting: records/MA/move5/traj.txt  \n",
            "  inflating: records/MA/move5/trajout.txt  \n",
            " extracting: records/MA/move5/rawsinal.txt  \n",
            "  inflating: records/MA/move5/move_effort.txt  \n",
            " extracting: records/MA/fx2/testen.txt  \n",
            "  inflating: records/MA/fx2/follow_traj.txt  \n",
            "  inflating: records/MA/fx2/fuzzyout.txt  \n",
            " extracting: records/MA/fx2/traj.txt  \n",
            "  inflating: records/MA/fx2/trajout.txt  \n",
            " extracting: records/MA/fx2/rawsinal.txt  \n",
            "  inflating: records/MA/fx2/move_effort.txt  \n",
            " extracting: records/MA/fx5/testen.txt  \n",
            "  inflating: records/MA/fx5/follow_traj.txt  \n",
            "  inflating: records/MA/fx5/fuzzyout.txt  \n",
            " extracting: records/MA/fx5/traj.txt  \n",
            "  inflating: records/MA/fx5/trajout.txt  \n",
            " extracting: records/MA/fx5/rawsinal.txt  \n",
            "  inflating: records/MA/fx5/move_effort.txt  \n",
            " extracting: records/MA/move4/testen.txt  \n",
            "  inflating: records/MA/move4/follow_traj.txt  \n",
            "  inflating: records/MA/move4/fuzzyout.txt  \n",
            " extracting: records/MA/move4/traj.txt  \n",
            "  inflating: records/MA/move4/trajout.txt  \n",
            " extracting: records/MA/move4/rawsinal.txt  \n",
            "  inflating: records/MA/move4/move_effort.txt  \n",
            " extracting: records/MA/move3/testen.txt  \n",
            "  inflating: records/MA/move3/follow_traj.txt  \n",
            "  inflating: records/MA/move3/fuzzyout.txt  \n",
            " extracting: records/MA/move3/traj.txt  \n",
            "  inflating: records/MA/move3/trajout.txt  \n",
            " extracting: records/MA/move3/rawsinal.txt  \n",
            "  inflating: records/MA/move3/move_effort.txt  \n",
            " extracting: records/MA/traj9/testen.txt  \n",
            "  inflating: records/MA/traj9/follow_traj.txt  \n",
            "  inflating: records/MA/traj9/fuzzyout.txt  \n",
            " extracting: records/MA/traj9/traj.txt  \n",
            "  inflating: records/MA/traj9/trajout.txt  \n",
            " extracting: records/MA/traj9/rawsinal.txt  \n",
            "  inflating: records/MA/traj9/move_effort.txt  \n",
            " extracting: records/MA/traj7/testen.txt  \n",
            "  inflating: records/MA/traj7/follow_traj.txt  \n",
            "  inflating: records/MA/traj7/fuzzyout.txt  \n",
            " extracting: records/MA/traj7/traj.txt  \n",
            "  inflating: records/MA/traj7/trajout.txt  \n",
            " extracting: records/MA/traj7/rawsinal.txt  \n",
            "  inflating: records/MA/traj7/move_effort.txt  \n",
            " extracting: records/MA/traj1/testen.txt  \n",
            "  inflating: records/MA/traj1/follow_traj.txt  \n",
            "  inflating: records/MA/traj1/fuzzyout.txt  \n",
            " extracting: records/MA/traj1/traj.txt  \n",
            "  inflating: records/MA/traj1/trajout.txt  \n",
            " extracting: records/MA/traj1/rawsinal.txt  \n",
            "  inflating: records/MA/traj1/move_effort.txt  \n",
            " extracting: records/MA/traj6/testen.txt  \n",
            "  inflating: records/MA/traj6/follow_traj.txt  \n",
            "  inflating: records/MA/traj6/fuzzyout.txt  \n",
            " extracting: records/MA/traj6/traj.txt  \n",
            "  inflating: records/MA/traj6/trajout.txt  \n",
            " extracting: records/MA/traj6/rawsinal.txt  \n",
            "  inflating: records/MA/traj6/move_effort.txt  \n",
            " extracting: records/MA/traj8/testen.txt  \n",
            "  inflating: records/MA/traj8/follow_traj.txt  \n",
            "  inflating: records/MA/traj8/fuzzyout.txt  \n",
            " extracting: records/MA/traj8/traj.txt  \n",
            "  inflating: records/MA/traj8/trajout.txt  \n",
            " extracting: records/MA/traj8/rawsinal.txt  \n",
            "  inflating: records/MA/traj8/move_effort.txt  \n",
            " extracting: records/MA/fuz1/testen.txt  \n",
            "  inflating: records/MA/fuz1/follow_traj.txt  \n",
            "  inflating: records/MA/fuz1/fuzzyout.txt  \n",
            " extracting: records/MA/fuz1/traj.txt  \n",
            "  inflating: records/MA/fuz1/trajout.txt  \n",
            " extracting: records/MA/fuz1/rawsinal.txt  \n",
            "  inflating: records/MA/fuz1/move_effort.txt  \n",
            " extracting: records/MA/traj10/testen.txt  \n",
            "  inflating: records/MA/traj10/follow_traj.txt  \n",
            "  inflating: records/MA/traj10/fuzzyout.txt  \n",
            " extracting: records/MA/traj10/traj.txt  \n",
            "  inflating: records/MA/traj10/trajout.txt  \n",
            " extracting: records/MA/traj10/rawsinal.txt  \n",
            "  inflating: records/MA/traj10/move_effort.txt  \n",
            " extracting: records/fx/do/testen.txt  \n",
            " extracting: records/fx/do/traj.txt  \n",
            " extracting: records/BO2504/test/testen.txt  \n",
            " extracting: records/BO2504/test/follow_traj.txt  \n",
            "  inflating: records/BO2504/test/fuzzyout.txt  \n",
            " extracting: records/BO2504/test/traj.txt  \n",
            "  inflating: records/BO2504/test/trajout.txt  \n",
            " extracting: records/BO2504/test/rawsinal.txt  \n",
            "  inflating: records/BO2504/test/move_effort.txt  \n",
            " extracting: records/fuzzy/test_ludo2/testen.txt  \n",
            "  inflating: records/fuzzy/test_ludo2/follow_traj.txt  \n",
            "  inflating: records/fuzzy/test_ludo2/fuzzyout.txt  \n",
            " extracting: records/fuzzy/test_ludo2/traj.txt  \n",
            "  inflating: records/fuzzy/test_ludo2/trajout.txt  \n",
            " extracting: records/fuzzy/test_ludo2/rawsinal.txt  \n",
            "  inflating: records/fuzzy/test_ludo2/move_effort.txt  \n",
            " extracting: records/fuzzy/test_ludo/testen.txt  \n",
            "  inflating: records/fuzzy/test_ludo/follow_traj.txt  \n",
            "  inflating: records/fuzzy/test_ludo/fuzzyout.txt  \n",
            " extracting: records/fuzzy/test_ludo/traj.txt  \n",
            "  inflating: records/fuzzy/test_ludo/trajout.txt  \n",
            " extracting: records/fuzzy/test_ludo/rawsinal.txt  \n",
            "  inflating: records/fuzzy/test_ludo/move_effort.txt  \n",
            " extracting: records/fuzzy/tt/testen.txt  \n",
            " extracting: records/fuzzy/tt/follow_traj.txt  \n",
            "  inflating: records/fuzzy/tt/fuzzyout.txt  \n",
            " extracting: records/fuzzy/tt/traj.txt  \n",
            "  inflating: records/fuzzy/tt/trajout.txt  \n",
            " extracting: records/fuzzy/tt/rawsinal.txt  \n",
            "  inflating: records/fuzzy/tt/move_effort.txt  \n",
            " extracting: records/test1/av/testen.txt  \n",
            "  inflating: records/test1/av/follow_traj.txt  \n",
            "  inflating: records/test1/av/fuzzyout.txt  \n",
            " extracting: records/test1/av/traj.txt  \n",
            "  inflating: records/test1/av/trajout.txt  \n",
            " extracting: records/test1/av/rawsinal.txt  \n",
            " extracting: records/test1/av/move_effort.txt  \n",
            " extracting: records/test1/fx/testen.txt  \n",
            "  inflating: records/test1/fx/follow_traj.txt  \n",
            "  inflating: records/test1/fx/fuzzyout.txt  \n",
            " extracting: records/test1/fx/traj.txt  \n",
            "  inflating: records/test1/fx/trajout.txt  \n",
            " extracting: records/test1/fx/rawsinal.txt  \n",
            " extracting: records/test1/fx/move_effort.txt  \n",
            " extracting: records/test1/traj/testen.txt  \n",
            " extracting: records/test1/traj/follow_traj.txt  \n",
            "  inflating: records/test1/traj/fuzzyout.txt  \n",
            " extracting: records/test1/traj/traj.txt  \n",
            "  inflating: records/test1/traj/trajout.txt  \n",
            " extracting: records/test1/traj/rawsinal.txt  \n",
            " extracting: records/test1/traj/move_effort.txt  \n",
            " extracting: records/traj/test/testen.txt  \n",
            "  inflating: records/traj/test/follow_traj.txt  \n",
            "  inflating: records/traj/test/fuzzyout.txt  \n",
            " extracting: records/traj/test/traj.txt  \n",
            "  inflating: records/traj/test/trajout.txt  \n",
            " extracting: records/traj/test/rawsinal.txt  \n",
            "  inflating: records/traj/test/move_effort.txt  \n",
            " extracting: records/MMECA/test1/testen.txt  \n",
            "  inflating: records/MMECA/test1/follow_traj.txt  \n",
            "  inflating: records/MMECA/test1/fuzzyout.txt  \n",
            " extracting: records/MMECA/test1/traj.txt  \n",
            "  inflating: records/MMECA/test1/trajout.txt  \n",
            " extracting: records/MMECA/test1/rawsinal.txt  \n",
            "  inflating: records/MMECA/test1/move_effort.txt  \n",
            " extracting: records/MMECA/test2/testen.txt  \n",
            "  inflating: records/MMECA/test2/follow_traj.txt  \n",
            "  inflating: records/MMECA/test2/fuzzyout.txt  \n",
            " extracting: records/MMECA/test2/traj.txt  \n",
            "  inflating: records/MMECA/test2/trajout.txt  \n",
            " extracting: records/MMECA/test2/rawsinal.txt  \n",
            "  inflating: records/MMECA/test2/move_effort.txt  \n",
            " extracting: records/test2/av/testen.txt  \n",
            "  inflating: records/test2/av/follow_traj.txt  \n",
            "  inflating: records/test2/av/fuzzyout.txt  \n",
            " extracting: records/test2/av/traj.txt  \n",
            "  inflating: records/test2/av/trajout.txt  \n",
            " extracting: records/test2/av/rawsinal.txt  \n",
            "  inflating: records/test2/av/move_effort.txt  \n",
            " extracting: records/test2/traj/testen.txt  \n",
            "  inflating: records/test2/traj/follow_traj.txt  \n",
            "  inflating: records/test2/traj/fuzzyout.txt  \n",
            " extracting: records/test2/traj/traj.txt  \n",
            "  inflating: records/test2/traj/trajout.txt  \n",
            " extracting: records/test2/traj/rawsinal.txt  \n",
            "  inflating: records/test2/traj/move_effort.txt  \n",
            " extracting: records/OL/fx/7/testen.txt  \n",
            "  inflating: records/OL/fx/7/follow_traj.txt  \n",
            "  inflating: records/OL/fx/7/fuzzyout.txt  \n",
            " extracting: records/OL/fx/7/traj.txt  \n",
            "  inflating: records/OL/fx/7/trajout.txt  \n",
            " extracting: records/OL/fx/7/rawsinal.txt  \n",
            "  inflating: records/OL/fx/7/move_effort.txt  \n",
            " extracting: records/OL/fx/6/testen.txt  \n",
            "  inflating: records/OL/fx/6/follow_traj.txt  \n",
            "  inflating: records/OL/fx/6/fuzzyout.txt  \n",
            " extracting: records/OL/fx/6/traj.txt  \n",
            "  inflating: records/OL/fx/6/trajout.txt  \n",
            " extracting: records/OL/fx/6/rawsinal.txt  \n",
            "  inflating: records/OL/fx/6/move_effort.txt  \n",
            " extracting: records/OL/fx/1/testen.txt  \n",
            "  inflating: records/OL/fx/1/follow_traj.txt  \n",
            "  inflating: records/OL/fx/1/fuzzyout.txt  \n",
            " extracting: records/OL/fx/1/traj.txt  \n",
            "  inflating: records/OL/fx/1/trajout.txt  \n",
            " extracting: records/OL/fx/1/rawsinal.txt  \n",
            "  inflating: records/OL/fx/1/move_effort.txt  \n",
            " extracting: records/OL/fx/4/testen.txt  \n",
            "  inflating: records/OL/fx/4/follow_traj.txt  \n",
            "  inflating: records/OL/fx/4/fuzzyout.txt  \n",
            " extracting: records/OL/fx/4/traj.txt  \n",
            "  inflating: records/OL/fx/4/trajout.txt  \n",
            " extracting: records/OL/fx/4/rawsinal.txt  \n",
            "  inflating: records/OL/fx/4/move_effort.txt  \n",
            " extracting: records/OL/fx/3/testen.txt  \n",
            "  inflating: records/OL/fx/3/follow_traj.txt  \n",
            "  inflating: records/OL/fx/3/fuzzyout.txt  \n",
            " extracting: records/OL/fx/3/traj.txt  \n",
            "  inflating: records/OL/fx/3/trajout.txt  \n",
            " extracting: records/OL/fx/3/rawsinal.txt  \n",
            "  inflating: records/OL/fx/3/move_effort.txt  \n",
            " extracting: records/OL/fx/2/testen.txt  \n",
            "  inflating: records/OL/fx/2/follow_traj.txt  \n",
            "  inflating: records/OL/fx/2/fuzzyout.txt  \n",
            " extracting: records/OL/fx/2/traj.txt  \n",
            "  inflating: records/OL/fx/2/trajout.txt  \n",
            " extracting: records/OL/fx/2/rawsinal.txt  \n",
            "  inflating: records/OL/fx/2/move_effort.txt  \n",
            " extracting: records/OL/fx/5/testen.txt  \n",
            "  inflating: records/OL/fx/5/follow_traj.txt  \n",
            "  inflating: records/OL/fx/5/fuzzyout.txt  \n",
            " extracting: records/OL/fx/5/traj.txt  \n",
            "  inflating: records/OL/fx/5/trajout.txt  \n",
            " extracting: records/OL/fx/5/rawsinal.txt  \n",
            "  inflating: records/OL/fx/5/move_effort.txt  \n",
            " extracting: records/OL/traj/9/testen.txt  \n",
            "  inflating: records/OL/traj/9/follow_traj.txt  \n",
            "  inflating: records/OL/traj/9/fuzzyout.txt  \n",
            " extracting: records/OL/traj/9/traj.txt  \n",
            "  inflating: records/OL/traj/9/trajout.txt  \n",
            " extracting: records/OL/traj/9/rawsinal.txt  \n",
            "  inflating: records/OL/traj/9/move_effort.txt  \n",
            " extracting: records/OL/traj/7/testen.txt  \n",
            "  inflating: records/OL/traj/7/follow_traj.txt  \n",
            "  inflating: records/OL/traj/7/fuzzyout.txt  \n",
            " extracting: records/OL/traj/7/traj.txt  \n",
            "  inflating: records/OL/traj/7/trajout.txt  \n",
            " extracting: records/OL/traj/7/rawsinal.txt  \n",
            "  inflating: records/OL/traj/7/move_effort.txt  \n",
            " extracting: records/OL/traj/6/testen.txt  \n",
            "  inflating: records/OL/traj/6/follow_traj.txt  \n",
            "  inflating: records/OL/traj/6/fuzzyout.txt  \n",
            " extracting: records/OL/traj/6/traj.txt  \n",
            "  inflating: records/OL/traj/6/trajout.txt  \n",
            " extracting: records/OL/traj/6/rawsinal.txt  \n",
            "  inflating: records/OL/traj/6/move_effort.txt  \n",
            " extracting: records/OL/traj/1/testen.txt  \n",
            "  inflating: records/OL/traj/1/follow_traj.txt  \n",
            "  inflating: records/OL/traj/1/fuzzyout.txt  \n",
            " extracting: records/OL/traj/1/traj.txt  \n",
            "  inflating: records/OL/traj/1/trajout.txt  \n",
            " extracting: records/OL/traj/1/rawsinal.txt  \n",
            "  inflating: records/OL/traj/1/move_effort.txt  \n",
            " extracting: records/OL/traj/8/testen.txt  \n",
            "  inflating: records/OL/traj/8/follow_traj.txt  \n",
            "  inflating: records/OL/traj/8/fuzzyout.txt  \n",
            " extracting: records/OL/traj/8/traj.txt  \n",
            "  inflating: records/OL/traj/8/trajout.txt  \n",
            " extracting: records/OL/traj/8/rawsinal.txt  \n",
            "  inflating: records/OL/traj/8/move_effort.txt  \n",
            " extracting: records/OL/traj/4/testen.txt  \n",
            "  inflating: records/OL/traj/4/follow_traj.txt  \n",
            "  inflating: records/OL/traj/4/fuzzyout.txt  \n",
            " extracting: records/OL/traj/4/traj.txt  \n",
            "  inflating: records/OL/traj/4/trajout.txt  \n",
            " extracting: records/OL/traj/4/rawsinal.txt  \n",
            "  inflating: records/OL/traj/4/move_effort.txt  \n",
            " extracting: records/OL/traj/3/testen.txt  \n",
            "  inflating: records/OL/traj/3/follow_traj.txt  \n",
            "  inflating: records/OL/traj/3/fuzzyout.txt  \n",
            " extracting: records/OL/traj/3/traj.txt  \n",
            "  inflating: records/OL/traj/3/trajout.txt  \n",
            " extracting: records/OL/traj/3/rawsinal.txt  \n",
            "  inflating: records/OL/traj/3/move_effort.txt  \n",
            " extracting: records/OL/traj/2/testen.txt  \n",
            "  inflating: records/OL/traj/2/follow_traj.txt  \n",
            "  inflating: records/OL/traj/2/fuzzyout.txt  \n",
            " extracting: records/OL/traj/2/traj.txt  \n",
            "  inflating: records/OL/traj/2/trajout.txt  \n",
            " extracting: records/OL/traj/2/rawsinal.txt  \n",
            "  inflating: records/OL/traj/2/move_effort.txt  \n",
            " extracting: records/OL/traj/5/testen.txt  \n",
            "  inflating: records/OL/traj/5/follow_traj.txt  \n",
            "  inflating: records/OL/traj/5/fuzzyout.txt  \n",
            " extracting: records/OL/traj/5/traj.txt  \n",
            "  inflating: records/OL/traj/5/trajout.txt  \n",
            " extracting: records/OL/traj/5/rawsinal.txt  \n",
            "  inflating: records/OL/traj/5/move_effort.txt  \n",
            "__MACOSX  records  records.zip\tsample_data\n"
          ]
        }
      ]
    },
    {
      "cell_type": "markdown",
      "source": [
        "## Observons l'organisation des données"
      ],
      "metadata": {
        "id": "lVRl5nch-uPj"
      }
    },
    {
      "cell_type": "markdown",
      "source": [
        "Maintenant que les données sont téléchargées, il est possible de connaître l'organisation des données en ouvrant le fichier (/content/records/DESCRIPTIONS_DONNEES.txt). On note que le fichier follow_traj.txt contient toutes les informations utiles pour la classification que nous souhaitons effectuer. \n"
      ],
      "metadata": {
        "id": "PmXequtj9Afp"
      }
    },
    {
      "cell_type": "code",
      "source": [
        "s = [[file for file in glob.glob(\"*/*/*/follow_traj.txt\")]]\n",
        "\n",
        "flats = []\n",
        "for sub_s in s:\n",
        "    for item in sub_s:\n",
        "        flats.append(item)\n",
        "print(flats)\n"
      ],
      "metadata": {
        "colab": {
          "base_uri": "https://localhost:8080/"
        },
        "id": "mmex1RpgxOpZ",
        "outputId": "c50a68b0-aa13-4e0d-9b6d-1a7f0928b6ab"
      },
      "execution_count": 36,
      "outputs": [
        {
          "output_type": "stream",
          "name": "stdout",
          "text": [
            "['records/BO2504/test/follow_traj.txt', 'records/MA/traj1/follow_traj.txt', 'records/MA/move4/follow_traj.txt', 'records/MA/traj7/follow_traj.txt', 'records/MA/traj6/follow_traj.txt', 'records/MA/move2/follow_traj.txt', 'records/MA/traj10/follow_traj.txt', 'records/MA/traj2/follow_traj.txt', 'records/MA/fx10/follow_traj.txt', 'records/MA/fx3/follow_traj.txt', 'records/MA/traj4/follow_traj.txt', 'records/MA/fuz3/follow_traj.txt', 'records/MA/move5/follow_traj.txt', 'records/MA/fx6/follow_traj.txt', 'records/MA/fx8/follow_traj.txt', 'records/MA/move3/follow_traj.txt', 'records/MA/fuz2/follow_traj.txt', 'records/MA/move7/follow_traj.txt', 'records/MA/traj3/follow_traj.txt', 'records/MA/fx4/follow_traj.txt', 'records/MA/fuz4/follow_traj.txt', 'records/MA/move6/follow_traj.txt', 'records/MA/fx2/follow_traj.txt', 'records/MA/traj5/follow_traj.txt', 'records/MA/traj9/follow_traj.txt', 'records/MA/fuz1/follow_traj.txt', 'records/MA/traj8/follow_traj.txt', 'records/MA/fx7/follow_traj.txt', 'records/MA/fx5/follow_traj.txt', 'records/MA/fx1/follow_traj.txt', 'records/MA/fx9/follow_traj.txt', 'records/move/test_ludo8/follow_traj.txt', 'records/move/test_ludo4/follow_traj.txt', 'records/fuzzy/tt/follow_traj.txt', 'records/fuzzy/test_ludo2/follow_traj.txt', 'records/fuzzy/test_ludo/follow_traj.txt', 'records/test1/fx/follow_traj.txt', 'records/test1/av/follow_traj.txt', 'records/test1/traj/follow_traj.txt', 'records/MMECA/test1/follow_traj.txt', 'records/MMECA/test2/follow_traj.txt', 'records/test2/av/follow_traj.txt', 'records/test2/traj/follow_traj.txt', 'records/traj/test/follow_traj.txt']\n"
          ]
        }
      ]
    },
    {
      "cell_type": "code",
      "source": [
        "df = pd.read_csv(flats[0], sep='\\s+', header=None)\n",
        "df['file'] = pd.Series([flats[1] for i in df[0]])\n",
        "print(df)"
      ],
      "metadata": {
        "colab": {
          "base_uri": "https://localhost:8080/",
          "height": 287
        },
        "id": "6L3TVf4m8ZGG",
        "outputId": "aeae9d54-57c7-4d15-82a1-434aed2528af"
      },
      "execution_count": 51,
      "outputs": [
        {
          "output_type": "error",
          "ename": "EmptyDataError",
          "evalue": "ignored",
          "traceback": [
            "\u001b[0;31m---------------------------------------------------------------------------\u001b[0m",
            "\u001b[0;31mEmptyDataError\u001b[0m                            Traceback (most recent call last)",
            "\u001b[0;32m<ipython-input-51-d4c6ea78a2bd>\u001b[0m in \u001b[0;36m<cell line: 1>\u001b[0;34m()\u001b[0m\n\u001b[0;32m----> 1\u001b[0;31m \u001b[0mdf\u001b[0m \u001b[0;34m=\u001b[0m \u001b[0mpd\u001b[0m\u001b[0;34m.\u001b[0m\u001b[0mread_csv\u001b[0m\u001b[0;34m(\u001b[0m\u001b[0mflats\u001b[0m\u001b[0;34m[\u001b[0m\u001b[0;36m0\u001b[0m\u001b[0;34m]\u001b[0m\u001b[0;34m,\u001b[0m \u001b[0msep\u001b[0m\u001b[0;34m=\u001b[0m\u001b[0;34m'\\s+'\u001b[0m\u001b[0;34m,\u001b[0m \u001b[0mheader\u001b[0m\u001b[0;34m=\u001b[0m\u001b[0;32mNone\u001b[0m\u001b[0;34m)\u001b[0m\u001b[0;34m\u001b[0m\u001b[0;34m\u001b[0m\u001b[0m\n\u001b[0m\u001b[1;32m      2\u001b[0m \u001b[0mdf\u001b[0m\u001b[0;34m[\u001b[0m\u001b[0;34m'file'\u001b[0m\u001b[0;34m]\u001b[0m \u001b[0;34m=\u001b[0m \u001b[0mpd\u001b[0m\u001b[0;34m.\u001b[0m\u001b[0mSeries\u001b[0m\u001b[0;34m(\u001b[0m\u001b[0;34m[\u001b[0m\u001b[0mflats\u001b[0m\u001b[0;34m[\u001b[0m\u001b[0;36m1\u001b[0m\u001b[0;34m]\u001b[0m \u001b[0;32mfor\u001b[0m \u001b[0mi\u001b[0m \u001b[0;32min\u001b[0m \u001b[0mdf\u001b[0m\u001b[0;34m[\u001b[0m\u001b[0;36m0\u001b[0m\u001b[0;34m]\u001b[0m\u001b[0;34m]\u001b[0m\u001b[0;34m)\u001b[0m\u001b[0;34m\u001b[0m\u001b[0;34m\u001b[0m\u001b[0m\n\u001b[1;32m      3\u001b[0m \u001b[0mprint\u001b[0m\u001b[0;34m(\u001b[0m\u001b[0mdf\u001b[0m\u001b[0;34m)\u001b[0m\u001b[0;34m\u001b[0m\u001b[0;34m\u001b[0m\u001b[0m\n",
            "\u001b[0;32m/usr/local/lib/python3.10/dist-packages/pandas/util/_decorators.py\u001b[0m in \u001b[0;36mwrapper\u001b[0;34m(*args, **kwargs)\u001b[0m\n\u001b[1;32m    209\u001b[0m                 \u001b[0;32melse\u001b[0m\u001b[0;34m:\u001b[0m\u001b[0;34m\u001b[0m\u001b[0;34m\u001b[0m\u001b[0m\n\u001b[1;32m    210\u001b[0m                     \u001b[0mkwargs\u001b[0m\u001b[0;34m[\u001b[0m\u001b[0mnew_arg_name\u001b[0m\u001b[0;34m]\u001b[0m \u001b[0;34m=\u001b[0m \u001b[0mnew_arg_value\u001b[0m\u001b[0;34m\u001b[0m\u001b[0;34m\u001b[0m\u001b[0m\n\u001b[0;32m--> 211\u001b[0;31m             \u001b[0;32mreturn\u001b[0m \u001b[0mfunc\u001b[0m\u001b[0;34m(\u001b[0m\u001b[0;34m*\u001b[0m\u001b[0margs\u001b[0m\u001b[0;34m,\u001b[0m \u001b[0;34m**\u001b[0m\u001b[0mkwargs\u001b[0m\u001b[0;34m)\u001b[0m\u001b[0;34m\u001b[0m\u001b[0;34m\u001b[0m\u001b[0m\n\u001b[0m\u001b[1;32m    212\u001b[0m \u001b[0;34m\u001b[0m\u001b[0m\n\u001b[1;32m    213\u001b[0m         \u001b[0;32mreturn\u001b[0m \u001b[0mcast\u001b[0m\u001b[0;34m(\u001b[0m\u001b[0mF\u001b[0m\u001b[0;34m,\u001b[0m \u001b[0mwrapper\u001b[0m\u001b[0;34m)\u001b[0m\u001b[0;34m\u001b[0m\u001b[0;34m\u001b[0m\u001b[0m\n",
            "\u001b[0;32m/usr/local/lib/python3.10/dist-packages/pandas/util/_decorators.py\u001b[0m in \u001b[0;36mwrapper\u001b[0;34m(*args, **kwargs)\u001b[0m\n\u001b[1;32m    329\u001b[0m                     \u001b[0mstacklevel\u001b[0m\u001b[0;34m=\u001b[0m\u001b[0mfind_stack_level\u001b[0m\u001b[0;34m(\u001b[0m\u001b[0;34m)\u001b[0m\u001b[0;34m,\u001b[0m\u001b[0;34m\u001b[0m\u001b[0;34m\u001b[0m\u001b[0m\n\u001b[1;32m    330\u001b[0m                 )\n\u001b[0;32m--> 331\u001b[0;31m             \u001b[0;32mreturn\u001b[0m \u001b[0mfunc\u001b[0m\u001b[0;34m(\u001b[0m\u001b[0;34m*\u001b[0m\u001b[0margs\u001b[0m\u001b[0;34m,\u001b[0m \u001b[0;34m**\u001b[0m\u001b[0mkwargs\u001b[0m\u001b[0;34m)\u001b[0m\u001b[0;34m\u001b[0m\u001b[0;34m\u001b[0m\u001b[0m\n\u001b[0m\u001b[1;32m    332\u001b[0m \u001b[0;34m\u001b[0m\u001b[0m\n\u001b[1;32m    333\u001b[0m         \u001b[0;31m# error: \"Callable[[VarArg(Any), KwArg(Any)], Any]\" has no\u001b[0m\u001b[0;34m\u001b[0m\u001b[0;34m\u001b[0m\u001b[0m\n",
            "\u001b[0;32m/usr/local/lib/python3.10/dist-packages/pandas/io/parsers/readers.py\u001b[0m in \u001b[0;36mread_csv\u001b[0;34m(filepath_or_buffer, sep, delimiter, header, names, index_col, usecols, squeeze, prefix, mangle_dupe_cols, dtype, engine, converters, true_values, false_values, skipinitialspace, skiprows, skipfooter, nrows, na_values, keep_default_na, na_filter, verbose, skip_blank_lines, parse_dates, infer_datetime_format, keep_date_col, date_parser, dayfirst, cache_dates, iterator, chunksize, compression, thousands, decimal, lineterminator, quotechar, quoting, doublequote, escapechar, comment, encoding, encoding_errors, dialect, error_bad_lines, warn_bad_lines, on_bad_lines, delim_whitespace, low_memory, memory_map, float_precision, storage_options)\u001b[0m\n\u001b[1;32m    948\u001b[0m     \u001b[0mkwds\u001b[0m\u001b[0;34m.\u001b[0m\u001b[0mupdate\u001b[0m\u001b[0;34m(\u001b[0m\u001b[0mkwds_defaults\u001b[0m\u001b[0;34m)\u001b[0m\u001b[0;34m\u001b[0m\u001b[0;34m\u001b[0m\u001b[0m\n\u001b[1;32m    949\u001b[0m \u001b[0;34m\u001b[0m\u001b[0m\n\u001b[0;32m--> 950\u001b[0;31m     \u001b[0;32mreturn\u001b[0m \u001b[0m_read\u001b[0m\u001b[0;34m(\u001b[0m\u001b[0mfilepath_or_buffer\u001b[0m\u001b[0;34m,\u001b[0m \u001b[0mkwds\u001b[0m\u001b[0;34m)\u001b[0m\u001b[0;34m\u001b[0m\u001b[0;34m\u001b[0m\u001b[0m\n\u001b[0m\u001b[1;32m    951\u001b[0m \u001b[0;34m\u001b[0m\u001b[0m\n\u001b[1;32m    952\u001b[0m \u001b[0;34m\u001b[0m\u001b[0m\n",
            "\u001b[0;32m/usr/local/lib/python3.10/dist-packages/pandas/io/parsers/readers.py\u001b[0m in \u001b[0;36m_read\u001b[0;34m(filepath_or_buffer, kwds)\u001b[0m\n\u001b[1;32m    603\u001b[0m \u001b[0;34m\u001b[0m\u001b[0m\n\u001b[1;32m    604\u001b[0m     \u001b[0;31m# Create the parser.\u001b[0m\u001b[0;34m\u001b[0m\u001b[0;34m\u001b[0m\u001b[0m\n\u001b[0;32m--> 605\u001b[0;31m     \u001b[0mparser\u001b[0m \u001b[0;34m=\u001b[0m \u001b[0mTextFileReader\u001b[0m\u001b[0;34m(\u001b[0m\u001b[0mfilepath_or_buffer\u001b[0m\u001b[0;34m,\u001b[0m \u001b[0;34m**\u001b[0m\u001b[0mkwds\u001b[0m\u001b[0;34m)\u001b[0m\u001b[0;34m\u001b[0m\u001b[0;34m\u001b[0m\u001b[0m\n\u001b[0m\u001b[1;32m    606\u001b[0m \u001b[0;34m\u001b[0m\u001b[0m\n\u001b[1;32m    607\u001b[0m     \u001b[0;32mif\u001b[0m \u001b[0mchunksize\u001b[0m \u001b[0;32mor\u001b[0m \u001b[0miterator\u001b[0m\u001b[0;34m:\u001b[0m\u001b[0;34m\u001b[0m\u001b[0;34m\u001b[0m\u001b[0m\n",
            "\u001b[0;32m/usr/local/lib/python3.10/dist-packages/pandas/io/parsers/readers.py\u001b[0m in \u001b[0;36m__init__\u001b[0;34m(self, f, engine, **kwds)\u001b[0m\n\u001b[1;32m   1440\u001b[0m \u001b[0;34m\u001b[0m\u001b[0m\n\u001b[1;32m   1441\u001b[0m         \u001b[0mself\u001b[0m\u001b[0;34m.\u001b[0m\u001b[0mhandles\u001b[0m\u001b[0;34m:\u001b[0m \u001b[0mIOHandles\u001b[0m \u001b[0;34m|\u001b[0m \u001b[0;32mNone\u001b[0m \u001b[0;34m=\u001b[0m \u001b[0;32mNone\u001b[0m\u001b[0;34m\u001b[0m\u001b[0;34m\u001b[0m\u001b[0m\n\u001b[0;32m-> 1442\u001b[0;31m         \u001b[0mself\u001b[0m\u001b[0;34m.\u001b[0m\u001b[0m_engine\u001b[0m \u001b[0;34m=\u001b[0m \u001b[0mself\u001b[0m\u001b[0;34m.\u001b[0m\u001b[0m_make_engine\u001b[0m\u001b[0;34m(\u001b[0m\u001b[0mf\u001b[0m\u001b[0;34m,\u001b[0m \u001b[0mself\u001b[0m\u001b[0;34m.\u001b[0m\u001b[0mengine\u001b[0m\u001b[0;34m)\u001b[0m\u001b[0;34m\u001b[0m\u001b[0;34m\u001b[0m\u001b[0m\n\u001b[0m\u001b[1;32m   1443\u001b[0m \u001b[0;34m\u001b[0m\u001b[0m\n\u001b[1;32m   1444\u001b[0m     \u001b[0;32mdef\u001b[0m \u001b[0mclose\u001b[0m\u001b[0;34m(\u001b[0m\u001b[0mself\u001b[0m\u001b[0;34m)\u001b[0m \u001b[0;34m->\u001b[0m \u001b[0;32mNone\u001b[0m\u001b[0;34m:\u001b[0m\u001b[0;34m\u001b[0m\u001b[0;34m\u001b[0m\u001b[0m\n",
            "\u001b[0;32m/usr/local/lib/python3.10/dist-packages/pandas/io/parsers/readers.py\u001b[0m in \u001b[0;36m_make_engine\u001b[0;34m(self, f, engine)\u001b[0m\n\u001b[1;32m   1751\u001b[0m \u001b[0;34m\u001b[0m\u001b[0m\n\u001b[1;32m   1752\u001b[0m         \u001b[0;32mtry\u001b[0m\u001b[0;34m:\u001b[0m\u001b[0;34m\u001b[0m\u001b[0;34m\u001b[0m\u001b[0m\n\u001b[0;32m-> 1753\u001b[0;31m             \u001b[0;32mreturn\u001b[0m \u001b[0mmapping\u001b[0m\u001b[0;34m[\u001b[0m\u001b[0mengine\u001b[0m\u001b[0;34m]\u001b[0m\u001b[0;34m(\u001b[0m\u001b[0mf\u001b[0m\u001b[0;34m,\u001b[0m \u001b[0;34m**\u001b[0m\u001b[0mself\u001b[0m\u001b[0;34m.\u001b[0m\u001b[0moptions\u001b[0m\u001b[0;34m)\u001b[0m\u001b[0;34m\u001b[0m\u001b[0;34m\u001b[0m\u001b[0m\n\u001b[0m\u001b[1;32m   1754\u001b[0m         \u001b[0;32mexcept\u001b[0m \u001b[0mException\u001b[0m\u001b[0;34m:\u001b[0m\u001b[0;34m\u001b[0m\u001b[0;34m\u001b[0m\u001b[0m\n\u001b[1;32m   1755\u001b[0m             \u001b[0;32mif\u001b[0m \u001b[0mself\u001b[0m\u001b[0;34m.\u001b[0m\u001b[0mhandles\u001b[0m \u001b[0;32mis\u001b[0m \u001b[0;32mnot\u001b[0m \u001b[0;32mNone\u001b[0m\u001b[0;34m:\u001b[0m\u001b[0;34m\u001b[0m\u001b[0;34m\u001b[0m\u001b[0m\n",
            "\u001b[0;32m/usr/local/lib/python3.10/dist-packages/pandas/io/parsers/c_parser_wrapper.py\u001b[0m in \u001b[0;36m__init__\u001b[0;34m(self, src, **kwds)\u001b[0m\n\u001b[1;32m     77\u001b[0m \u001b[0;34m\u001b[0m\u001b[0m\n\u001b[1;32m     78\u001b[0m         \u001b[0mkwds\u001b[0m\u001b[0;34m[\u001b[0m\u001b[0;34m\"dtype\"\u001b[0m\u001b[0;34m]\u001b[0m \u001b[0;34m=\u001b[0m \u001b[0mensure_dtype_objs\u001b[0m\u001b[0;34m(\u001b[0m\u001b[0mkwds\u001b[0m\u001b[0;34m.\u001b[0m\u001b[0mget\u001b[0m\u001b[0;34m(\u001b[0m\u001b[0;34m\"dtype\"\u001b[0m\u001b[0;34m,\u001b[0m \u001b[0;32mNone\u001b[0m\u001b[0;34m)\u001b[0m\u001b[0;34m)\u001b[0m\u001b[0;34m\u001b[0m\u001b[0;34m\u001b[0m\u001b[0m\n\u001b[0;32m---> 79\u001b[0;31m         \u001b[0mself\u001b[0m\u001b[0;34m.\u001b[0m\u001b[0m_reader\u001b[0m \u001b[0;34m=\u001b[0m \u001b[0mparsers\u001b[0m\u001b[0;34m.\u001b[0m\u001b[0mTextReader\u001b[0m\u001b[0;34m(\u001b[0m\u001b[0msrc\u001b[0m\u001b[0;34m,\u001b[0m \u001b[0;34m**\u001b[0m\u001b[0mkwds\u001b[0m\u001b[0;34m)\u001b[0m\u001b[0;34m\u001b[0m\u001b[0;34m\u001b[0m\u001b[0m\n\u001b[0m\u001b[1;32m     80\u001b[0m \u001b[0;34m\u001b[0m\u001b[0m\n\u001b[1;32m     81\u001b[0m         \u001b[0mself\u001b[0m\u001b[0;34m.\u001b[0m\u001b[0munnamed_cols\u001b[0m \u001b[0;34m=\u001b[0m \u001b[0mself\u001b[0m\u001b[0;34m.\u001b[0m\u001b[0m_reader\u001b[0m\u001b[0;34m.\u001b[0m\u001b[0munnamed_cols\u001b[0m\u001b[0;34m\u001b[0m\u001b[0;34m\u001b[0m\u001b[0m\n",
            "\u001b[0;32m/usr/local/lib/python3.10/dist-packages/pandas/_libs/parsers.pyx\u001b[0m in \u001b[0;36mpandas._libs.parsers.TextReader.__cinit__\u001b[0;34m()\u001b[0m\n",
            "\u001b[0;31mEmptyDataError\u001b[0m: No columns to parse from file"
          ]
        }
      ]
    },
    {
      "cell_type": "code",
      "source": [
        "for f in flats:\n",
        "  fd_stat = os.stat(f)\n",
        "  if fd_stat.st_size==0:\n",
        "    print('Fichier à retirer : ' + f + \" car fichier vide\")"
      ],
      "metadata": {
        "colab": {
          "base_uri": "https://localhost:8080/"
        },
        "id": "Dy5ESdO8zygX",
        "outputId": "c82292d8-e284-40c9-f24c-290bad722e73"
      },
      "execution_count": 48,
      "outputs": [
        {
          "output_type": "stream",
          "name": "stdout",
          "text": [
            "Fichier à retirer : records/BO2504/test/follow_traj.txt car fichier vide\n",
            "Fichier à retirer : records/fuzzy/tt/follow_traj.txt car fichier vide\n",
            "Fichier à retirer : records/test1/traj/follow_traj.txt car fichier vide\n"
          ]
        }
      ]
    },
    {
      "cell_type": "code",
      "source": [
        "df = pd.read_csv(flats[1], sep='\\s+', header=None)\n",
        "df['file'] = pd.Series([flats[1] for i in df[0]])\n",
        "print(df)"
      ],
      "metadata": {
        "colab": {
          "base_uri": "https://localhost:8080/"
        },
        "id": "HigKrUQ5ztef",
        "outputId": "ae628a34-8517-43ef-a183-51bd24efe1dc"
      },
      "execution_count": 52,
      "outputs": [
        {
          "output_type": "stream",
          "name": "stdout",
          "text": [
            "        0            1           2          3          4         5         6  \\\n",
            "0   -1595  1058.074518  761.656680   0.000000  -1.037723  2.066674  4.775655   \n",
            "1   -1556  1058.074518  761.656680   0.000000  -0.215120  1.761053  4.041022   \n",
            "2   -1543  1055.289818  765.055445   0.000000  -0.454037  1.366076  3.088639   \n",
            "3   -1530  1058.074518  761.656680   0.361185  -1.829286  0.882182  1.928515   \n",
            "4   -1517  1058.074518  761.656680   1.273799  -4.176914  0.323786  0.629320   \n",
            "..    ...          ...         ...        ...        ...       ...       ...   \n",
            "442  3890   838.417968  984.463406 -83.621313 -15.566355 -5.002669  0.385678   \n",
            "443  3903   838.417968  984.463406 -83.621313 -15.517402 -5.053957  0.205262   \n",
            "444  3916   838.417968  984.463406 -83.621313 -15.563012 -5.137251 -0.006967   \n",
            "445  3929   838.417968  984.463406 -83.621313 -15.737026 -5.253628 -0.231495   \n",
            "446  3935   838.417968  984.463406 -83.621313 -16.049570 -5.392206 -0.438137   \n",
            "\n",
            "             7         8         9  ...          12         13         14  \\\n",
            "0     4.215778  3.009616 -1.461020  ...    6.266940  -0.490449  -0.506040   \n",
            "1     4.423656  3.197767 -1.615134  ...    6.114501  -0.451904  -0.405130   \n",
            "2     3.690172  3.511348 -2.016865  ...    7.081584  -0.491675  -0.343991   \n",
            "3     2.023811  3.916241 -2.643770  ...    9.365633  -0.623149  -0.324099   \n",
            "4    -0.337543  4.383761 -3.382998  ...   12.691454  -0.814547  -0.328399   \n",
            "..         ...       ...       ...  ...         ...        ...        ...   \n",
            "442 -24.003227  2.240931 -3.945201  ... -785.550095  50.406265  14.371769   \n",
            "443 -24.683183  2.194751 -4.185356  ... -782.049830  49.988618  14.004577   \n",
            "444 -25.432447  2.189974 -4.497068  ... -777.967680  49.507006  13.559056   \n",
            "445 -26.244036  2.230257 -4.867822  ... -773.869236  48.974691  13.025513   \n",
            "446 -27.111132  2.322977 -5.286972  ... -769.862768  48.410572  12.438442   \n",
            "\n",
            "           15        16        17  18   19       20  \\\n",
            "0    0.033637 -0.075606  0.057785 -62 -0.0  3293000   \n",
            "1    0.050455 -0.069827  0.039903 -62 -0.0  3117000   \n",
            "2    0.062366 -0.065076  0.025820 -60 -0.0  3054000   \n",
            "3    0.066667 -0.063017  0.019240 -58 -0.0  3311000   \n",
            "4    0.062366 -0.061751  0.016966 -54 -0.0  3229000   \n",
            "..        ...       ...       ...  ..  ...      ...   \n",
            "442  0.865622 -0.064220  0.014452  -4 -0.0  3231000   \n",
            "443  0.781531 -0.063920  0.013987  -4 -0.0  3221000   \n",
            "444  0.697439 -0.063583  0.013433  -4 -0.0  3066000   \n",
            "445  0.619481 -0.063182  0.012775  -4 -0.0  3117000   \n",
            "446  0.552815 -0.062735  0.012059  -4 -0.0  3501000   \n",
            "\n",
            "                                 file  \n",
            "0    records/MA/traj1/follow_traj.txt  \n",
            "1    records/MA/traj1/follow_traj.txt  \n",
            "2    records/MA/traj1/follow_traj.txt  \n",
            "3    records/MA/traj1/follow_traj.txt  \n",
            "4    records/MA/traj1/follow_traj.txt  \n",
            "..                                ...  \n",
            "442  records/MA/traj1/follow_traj.txt  \n",
            "443  records/MA/traj1/follow_traj.txt  \n",
            "444  records/MA/traj1/follow_traj.txt  \n",
            "445  records/MA/traj1/follow_traj.txt  \n",
            "446  records/MA/traj1/follow_traj.txt  \n",
            "\n",
            "[447 rows x 22 columns]\n"
          ]
        }
      ]
    },
    {
      "cell_type": "code",
      "source": [
        "df[19]"
      ],
      "metadata": {
        "colab": {
          "base_uri": "https://localhost:8080/"
        },
        "id": "oLndxxyfEm5x",
        "outputId": "1d50f9f6-71ec-4357-ab44-9ba2ae77bc79"
      },
      "execution_count": 64,
      "outputs": [
        {
          "output_type": "execute_result",
          "data": {
            "text/plain": [
              "0     -0.0\n",
              "1     -0.0\n",
              "2     -0.0\n",
              "3     -0.0\n",
              "4     -0.0\n",
              "      ... \n",
              "442   -0.0\n",
              "443   -0.0\n",
              "444   -0.0\n",
              "445   -0.0\n",
              "446   -0.0\n",
              "Name: 19, Length: 447, dtype: float64"
            ]
          },
          "metadata": {},
          "execution_count": 64
        }
      ]
    },
    {
      "cell_type": "code",
      "source": [
        "filtering_data = ['records/test1/traj/follow_traj.txt',\n",
        "                  'records/BO2504/test/follow_traj.txt',\n",
        "                  'records/fuzzy/tt/follow_traj.txt',\n",
        "                  'records/test1/fx/follow_traj.txt',\n",
        "                  # Above Problematic data : Below test data not relevant\n",
        "                  'records/test1/av/follow_traj.txt',\n",
        "                  'records/test2/traj/follow_traj.txt',\n",
        "                  'records/test2/av/follow_traj.txt',\n",
        "                  'records/traj/test/follow_traj.txt',\n",
        "                  'records/move/follow_traj.txt',\n",
        "                  'NO_march1-3/follow_traj.txt',\n",
        "                  'NO_march6-10/follow_traj.txt',\n",
        "                  'GU_marche1/follow_traj.txt',\n",
        "                  'GU_marche2/follow_traj.txt'\n",
        "                  ]\n",
        "\n",
        "for ff in flats[1:]:\n",
        "    dftmp = []\n",
        "    if ff in filtering_data:\n",
        "        print(\"File filtered not loaded : \"+str(ff)+\"\\n\")\n",
        "        continue\n",
        "    print(\"File opened and loaded : \" + str(ff) + \"\\n\")\n",
        "    dftmp = pd.read_csv(ff, sep='\\s+', header=None)\n",
        "    if len(dftmp) > 0:\n",
        "        print(\"Appending len(dftmp):\" + str(len(dftmp))+\"\\n\")\n",
        "        dftmp['file'] = pd.Series([ff for i in dftmp[0]])\n",
        "        df = df.append(dftmp)\n",
        "\n",
        "print('len(df)=' + str(len(df)))"
      ],
      "metadata": {
        "colab": {
          "base_uri": "https://localhost:8080/"
        },
        "id": "7L2OKI0YzKPm",
        "outputId": "f4153d77-70c5-428e-838d-8de8a3650aa3"
      },
      "execution_count": 67,
      "outputs": [
        {
          "output_type": "stream",
          "name": "stdout",
          "text": [
            "File opened and loaded : records/MA/traj1/follow_traj.txt\n",
            "\n",
            "Appending len(dftmp):447\n",
            "\n",
            "File opened and loaded : records/MA/move4/follow_traj.txt\n",
            "\n",
            "Appending len(dftmp):1114\n",
            "\n",
            "File opened and loaded : records/MA/traj7/follow_traj.txt\n",
            "\n",
            "Appending len(dftmp):411\n",
            "\n",
            "File opened and loaded : records/MA/traj6/follow_traj.txt\n",
            "\n",
            "Appending len(dftmp):336\n",
            "\n",
            "File opened and loaded : records/MA/move2/follow_traj.txt\n",
            "\n",
            "Appending len(dftmp):1039\n",
            "\n",
            "File opened and loaded : records/MA/traj10/follow_traj.txt\n",
            "\n",
            "Appending len(dftmp):353\n",
            "\n",
            "File opened and loaded : records/MA/traj2/follow_traj.txt\n",
            "\n",
            "Appending len(dftmp):384\n",
            "\n",
            "File opened and loaded : records/MA/fx10/follow_traj.txt\n",
            "\n",
            "Appending len(dftmp):958\n",
            "\n",
            "File opened and loaded : records/MA/fx3/follow_traj.txt\n",
            "\n",
            "Appending len(dftmp):442\n",
            "\n",
            "File opened and loaded : records/MA/traj4/follow_traj.txt\n",
            "\n",
            "Appending len(dftmp):494\n",
            "\n",
            "File opened and loaded : records/MA/fuz3/follow_traj.txt\n",
            "\n",
            "Appending len(dftmp):1225\n",
            "\n",
            "File opened and loaded : records/MA/move5/follow_traj.txt\n",
            "\n"
          ]
        },
        {
          "output_type": "stream",
          "name": "stderr",
          "text": [
            "<ipython-input-67-c60b43b4ba2e>:27: FutureWarning: The frame.append method is deprecated and will be removed from pandas in a future version. Use pandas.concat instead.\n",
            "  df = df.append(dftmp)\n",
            "<ipython-input-67-c60b43b4ba2e>:27: FutureWarning: The frame.append method is deprecated and will be removed from pandas in a future version. Use pandas.concat instead.\n",
            "  df = df.append(dftmp)\n",
            "<ipython-input-67-c60b43b4ba2e>:27: FutureWarning: The frame.append method is deprecated and will be removed from pandas in a future version. Use pandas.concat instead.\n",
            "  df = df.append(dftmp)\n",
            "<ipython-input-67-c60b43b4ba2e>:27: FutureWarning: The frame.append method is deprecated and will be removed from pandas in a future version. Use pandas.concat instead.\n",
            "  df = df.append(dftmp)\n",
            "<ipython-input-67-c60b43b4ba2e>:27: FutureWarning: The frame.append method is deprecated and will be removed from pandas in a future version. Use pandas.concat instead.\n",
            "  df = df.append(dftmp)\n",
            "<ipython-input-67-c60b43b4ba2e>:27: FutureWarning: The frame.append method is deprecated and will be removed from pandas in a future version. Use pandas.concat instead.\n",
            "  df = df.append(dftmp)\n",
            "<ipython-input-67-c60b43b4ba2e>:27: FutureWarning: The frame.append method is deprecated and will be removed from pandas in a future version. Use pandas.concat instead.\n",
            "  df = df.append(dftmp)\n",
            "<ipython-input-67-c60b43b4ba2e>:27: FutureWarning: The frame.append method is deprecated and will be removed from pandas in a future version. Use pandas.concat instead.\n",
            "  df = df.append(dftmp)\n",
            "<ipython-input-67-c60b43b4ba2e>:27: FutureWarning: The frame.append method is deprecated and will be removed from pandas in a future version. Use pandas.concat instead.\n",
            "  df = df.append(dftmp)\n",
            "<ipython-input-67-c60b43b4ba2e>:27: FutureWarning: The frame.append method is deprecated and will be removed from pandas in a future version. Use pandas.concat instead.\n",
            "  df = df.append(dftmp)\n",
            "<ipython-input-67-c60b43b4ba2e>:27: FutureWarning: The frame.append method is deprecated and will be removed from pandas in a future version. Use pandas.concat instead.\n",
            "  df = df.append(dftmp)\n",
            "<ipython-input-67-c60b43b4ba2e>:27: FutureWarning: The frame.append method is deprecated and will be removed from pandas in a future version. Use pandas.concat instead.\n",
            "  df = df.append(dftmp)\n"
          ]
        },
        {
          "output_type": "stream",
          "name": "stdout",
          "text": [
            "Appending len(dftmp):1130\n",
            "\n",
            "File opened and loaded : records/MA/fx6/follow_traj.txt\n",
            "\n",
            "Appending len(dftmp):1463\n",
            "\n",
            "File opened and loaded : records/MA/fx8/follow_traj.txt\n",
            "\n",
            "Appending len(dftmp):951\n",
            "\n",
            "File opened and loaded : records/MA/move3/follow_traj.txt\n",
            "\n",
            "Appending len(dftmp):1125\n",
            "\n",
            "File opened and loaded : records/MA/fuz2/follow_traj.txt\n",
            "\n",
            "Appending len(dftmp):420\n",
            "\n",
            "File opened and loaded : records/MA/move7/follow_traj.txt\n",
            "\n",
            "Appending len(dftmp):1118\n",
            "\n",
            "File opened and loaded : records/MA/traj3/follow_traj.txt\n",
            "\n",
            "Appending len(dftmp):400\n",
            "\n",
            "File opened and loaded : records/MA/fx4/follow_traj.txt\n",
            "\n",
            "Appending len(dftmp):872\n",
            "\n",
            "File opened and loaded : records/MA/fuz4/follow_traj.txt\n",
            "\n",
            "Appending len(dftmp):1313\n",
            "\n",
            "File opened and loaded : records/MA/move6/follow_traj.txt\n",
            "\n",
            "Appending len(dftmp):1113\n",
            "\n",
            "File opened and loaded : records/MA/fx2/follow_traj.txt\n",
            "\n",
            "Appending len(dftmp):1185\n",
            "\n"
          ]
        },
        {
          "output_type": "stream",
          "name": "stderr",
          "text": [
            "<ipython-input-67-c60b43b4ba2e>:27: FutureWarning: The frame.append method is deprecated and will be removed from pandas in a future version. Use pandas.concat instead.\n",
            "  df = df.append(dftmp)\n",
            "<ipython-input-67-c60b43b4ba2e>:27: FutureWarning: The frame.append method is deprecated and will be removed from pandas in a future version. Use pandas.concat instead.\n",
            "  df = df.append(dftmp)\n",
            "<ipython-input-67-c60b43b4ba2e>:27: FutureWarning: The frame.append method is deprecated and will be removed from pandas in a future version. Use pandas.concat instead.\n",
            "  df = df.append(dftmp)\n",
            "<ipython-input-67-c60b43b4ba2e>:27: FutureWarning: The frame.append method is deprecated and will be removed from pandas in a future version. Use pandas.concat instead.\n",
            "  df = df.append(dftmp)\n",
            "<ipython-input-67-c60b43b4ba2e>:27: FutureWarning: The frame.append method is deprecated and will be removed from pandas in a future version. Use pandas.concat instead.\n",
            "  df = df.append(dftmp)\n",
            "<ipython-input-67-c60b43b4ba2e>:27: FutureWarning: The frame.append method is deprecated and will be removed from pandas in a future version. Use pandas.concat instead.\n",
            "  df = df.append(dftmp)\n",
            "<ipython-input-67-c60b43b4ba2e>:27: FutureWarning: The frame.append method is deprecated and will be removed from pandas in a future version. Use pandas.concat instead.\n",
            "  df = df.append(dftmp)\n",
            "<ipython-input-67-c60b43b4ba2e>:27: FutureWarning: The frame.append method is deprecated and will be removed from pandas in a future version. Use pandas.concat instead.\n",
            "  df = df.append(dftmp)\n",
            "<ipython-input-67-c60b43b4ba2e>:27: FutureWarning: The frame.append method is deprecated and will be removed from pandas in a future version. Use pandas.concat instead.\n",
            "  df = df.append(dftmp)\n",
            "<ipython-input-67-c60b43b4ba2e>:27: FutureWarning: The frame.append method is deprecated and will be removed from pandas in a future version. Use pandas.concat instead.\n",
            "  df = df.append(dftmp)\n",
            "<ipython-input-67-c60b43b4ba2e>:27: FutureWarning: The frame.append method is deprecated and will be removed from pandas in a future version. Use pandas.concat instead.\n",
            "  df = df.append(dftmp)\n"
          ]
        },
        {
          "output_type": "stream",
          "name": "stdout",
          "text": [
            "File opened and loaded : records/MA/traj5/follow_traj.txt\n",
            "\n",
            "Appending len(dftmp):354\n",
            "\n",
            "File opened and loaded : records/MA/traj9/follow_traj.txt\n",
            "\n",
            "Appending len(dftmp):360\n",
            "\n",
            "File opened and loaded : records/MA/fuz1/follow_traj.txt\n",
            "\n",
            "Appending len(dftmp):1606\n",
            "\n",
            "File opened and loaded : records/MA/traj8/follow_traj.txt\n",
            "\n",
            "Appending len(dftmp):362\n",
            "\n",
            "File opened and loaded : records/MA/fx7/follow_traj.txt\n",
            "\n",
            "Appending len(dftmp):1190\n",
            "\n",
            "File opened and loaded : records/MA/fx5/follow_traj.txt\n",
            "\n",
            "Appending len(dftmp):1008\n",
            "\n",
            "File opened and loaded : records/MA/fx1/follow_traj.txt\n",
            "\n",
            "Appending len(dftmp):2517\n",
            "\n",
            "File opened and loaded : records/MA/fx9/follow_traj.txt\n",
            "\n",
            "Appending len(dftmp):1182\n",
            "\n",
            "File opened and loaded : records/move/test_ludo8/follow_traj.txt\n",
            "\n"
          ]
        },
        {
          "output_type": "stream",
          "name": "stderr",
          "text": [
            "<ipython-input-67-c60b43b4ba2e>:27: FutureWarning: The frame.append method is deprecated and will be removed from pandas in a future version. Use pandas.concat instead.\n",
            "  df = df.append(dftmp)\n",
            "<ipython-input-67-c60b43b4ba2e>:27: FutureWarning: The frame.append method is deprecated and will be removed from pandas in a future version. Use pandas.concat instead.\n",
            "  df = df.append(dftmp)\n",
            "<ipython-input-67-c60b43b4ba2e>:27: FutureWarning: The frame.append method is deprecated and will be removed from pandas in a future version. Use pandas.concat instead.\n",
            "  df = df.append(dftmp)\n",
            "<ipython-input-67-c60b43b4ba2e>:27: FutureWarning: The frame.append method is deprecated and will be removed from pandas in a future version. Use pandas.concat instead.\n",
            "  df = df.append(dftmp)\n",
            "<ipython-input-67-c60b43b4ba2e>:27: FutureWarning: The frame.append method is deprecated and will be removed from pandas in a future version. Use pandas.concat instead.\n",
            "  df = df.append(dftmp)\n",
            "<ipython-input-67-c60b43b4ba2e>:27: FutureWarning: The frame.append method is deprecated and will be removed from pandas in a future version. Use pandas.concat instead.\n",
            "  df = df.append(dftmp)\n",
            "<ipython-input-67-c60b43b4ba2e>:27: FutureWarning: The frame.append method is deprecated and will be removed from pandas in a future version. Use pandas.concat instead.\n",
            "  df = df.append(dftmp)\n",
            "<ipython-input-67-c60b43b4ba2e>:27: FutureWarning: The frame.append method is deprecated and will be removed from pandas in a future version. Use pandas.concat instead.\n",
            "  df = df.append(dftmp)\n"
          ]
        },
        {
          "output_type": "stream",
          "name": "stdout",
          "text": [
            "Appending len(dftmp):3351\n",
            "\n",
            "File opened and loaded : records/move/test_ludo4/follow_traj.txt\n",
            "\n",
            "Appending len(dftmp):5736\n",
            "\n",
            "File filtered not loaded : records/fuzzy/tt/follow_traj.txt\n",
            "\n",
            "File opened and loaded : records/fuzzy/test_ludo2/follow_traj.txt\n",
            "\n",
            "Appending len(dftmp):11\n",
            "\n",
            "File opened and loaded : records/fuzzy/test_ludo/follow_traj.txt\n",
            "\n",
            "Appending len(dftmp):2808\n",
            "\n",
            "File filtered not loaded : records/test1/fx/follow_traj.txt\n",
            "\n",
            "File filtered not loaded : records/test1/av/follow_traj.txt\n",
            "\n",
            "File filtered not loaded : records/test1/traj/follow_traj.txt\n",
            "\n",
            "File opened and loaded : records/MMECA/test1/follow_traj.txt\n",
            "\n",
            "Appending len(dftmp):5666\n",
            "\n",
            "File opened and loaded : records/MMECA/test2/follow_traj.txt\n",
            "\n",
            "Appending len(dftmp):4534\n",
            "\n",
            "File filtered not loaded : records/test2/av/follow_traj.txt\n",
            "\n",
            "File filtered not loaded : records/test2/traj/follow_traj.txt\n",
            "\n",
            "File filtered not loaded : records/traj/test/follow_traj.txt\n",
            "\n",
            "len(df)=98403\n"
          ]
        },
        {
          "output_type": "stream",
          "name": "stderr",
          "text": [
            "<ipython-input-67-c60b43b4ba2e>:27: FutureWarning: The frame.append method is deprecated and will be removed from pandas in a future version. Use pandas.concat instead.\n",
            "  df = df.append(dftmp)\n",
            "<ipython-input-67-c60b43b4ba2e>:27: FutureWarning: The frame.append method is deprecated and will be removed from pandas in a future version. Use pandas.concat instead.\n",
            "  df = df.append(dftmp)\n",
            "<ipython-input-67-c60b43b4ba2e>:27: FutureWarning: The frame.append method is deprecated and will be removed from pandas in a future version. Use pandas.concat instead.\n",
            "  df = df.append(dftmp)\n",
            "<ipython-input-67-c60b43b4ba2e>:27: FutureWarning: The frame.append method is deprecated and will be removed from pandas in a future version. Use pandas.concat instead.\n",
            "  df = df.append(dftmp)\n",
            "<ipython-input-67-c60b43b4ba2e>:27: FutureWarning: The frame.append method is deprecated and will be removed from pandas in a future version. Use pandas.concat instead.\n",
            "  df = df.append(dftmp)\n"
          ]
        }
      ]
    },
    {
      "cell_type": "code",
      "source": [
        "import matplotlib.pyplot as mpl\n",
        "mydf= [val for val in df if (df['file']=='records/MA/traj1/follow_traj.txt')]\n",
        "mpl.plot(mydf[0],mydf[1])"
      ],
      "metadata": {
        "colab": {
          "base_uri": "https://localhost:8080/",
          "height": 433
        },
        "id": "SxFUeyjwGApO",
        "outputId": "493d32fa-0b4d-42d6-cd16-63b0fba40416"
      },
      "execution_count": 82,
      "outputs": [
        {
          "output_type": "error",
          "ename": "ValueError",
          "evalue": "ignored",
          "traceback": [
            "\u001b[0;31m---------------------------------------------------------------------------\u001b[0m",
            "\u001b[0;31mValueError\u001b[0m                                Traceback (most recent call last)",
            "\u001b[0;32m<ipython-input-82-f1b6a77e7562>\u001b[0m in \u001b[0;36m<cell line: 2>\u001b[0;34m()\u001b[0m\n\u001b[1;32m      1\u001b[0m \u001b[0;32mimport\u001b[0m \u001b[0mmatplotlib\u001b[0m\u001b[0;34m.\u001b[0m\u001b[0mpyplot\u001b[0m \u001b[0;32mas\u001b[0m \u001b[0mmpl\u001b[0m\u001b[0;34m\u001b[0m\u001b[0;34m\u001b[0m\u001b[0m\n\u001b[0;32m----> 2\u001b[0;31m \u001b[0mmydf\u001b[0m\u001b[0;34m=\u001b[0m \u001b[0;34m[\u001b[0m\u001b[0mval\u001b[0m \u001b[0;32mfor\u001b[0m \u001b[0mval\u001b[0m \u001b[0;32min\u001b[0m \u001b[0mdf\u001b[0m \u001b[0;32mif\u001b[0m \u001b[0;34m(\u001b[0m\u001b[0mdf\u001b[0m\u001b[0;34m[\u001b[0m\u001b[0;34m'file'\u001b[0m\u001b[0;34m]\u001b[0m\u001b[0;34m==\u001b[0m\u001b[0;34m'records/MA/traj1/follow_traj.txt'\u001b[0m\u001b[0;34m)\u001b[0m\u001b[0;34m]\u001b[0m\u001b[0;34m\u001b[0m\u001b[0;34m\u001b[0m\u001b[0m\n\u001b[0m\u001b[1;32m      3\u001b[0m \u001b[0mmpl\u001b[0m\u001b[0;34m.\u001b[0m\u001b[0mplot\u001b[0m\u001b[0;34m(\u001b[0m\u001b[0mmydf\u001b[0m\u001b[0;34m[\u001b[0m\u001b[0;36m0\u001b[0m\u001b[0;34m]\u001b[0m\u001b[0;34m,\u001b[0m\u001b[0mmydf\u001b[0m\u001b[0;34m[\u001b[0m\u001b[0;36m1\u001b[0m\u001b[0;34m]\u001b[0m\u001b[0;34m)\u001b[0m\u001b[0;34m\u001b[0m\u001b[0;34m\u001b[0m\u001b[0m\n",
            "\u001b[0;32m<ipython-input-82-f1b6a77e7562>\u001b[0m in \u001b[0;36m<listcomp>\u001b[0;34m(.0)\u001b[0m\n\u001b[1;32m      1\u001b[0m \u001b[0;32mimport\u001b[0m \u001b[0mmatplotlib\u001b[0m\u001b[0;34m.\u001b[0m\u001b[0mpyplot\u001b[0m \u001b[0;32mas\u001b[0m \u001b[0mmpl\u001b[0m\u001b[0;34m\u001b[0m\u001b[0;34m\u001b[0m\u001b[0m\n\u001b[0;32m----> 2\u001b[0;31m \u001b[0mmydf\u001b[0m\u001b[0;34m=\u001b[0m \u001b[0;34m[\u001b[0m\u001b[0mval\u001b[0m \u001b[0;32mfor\u001b[0m \u001b[0mval\u001b[0m \u001b[0;32min\u001b[0m \u001b[0mdf\u001b[0m \u001b[0;32mif\u001b[0m \u001b[0;34m(\u001b[0m\u001b[0mdf\u001b[0m\u001b[0;34m[\u001b[0m\u001b[0;34m'file'\u001b[0m\u001b[0;34m]\u001b[0m\u001b[0;34m==\u001b[0m\u001b[0;34m'records/MA/traj1/follow_traj.txt'\u001b[0m\u001b[0;34m)\u001b[0m\u001b[0;34m]\u001b[0m\u001b[0;34m\u001b[0m\u001b[0;34m\u001b[0m\u001b[0m\n\u001b[0m\u001b[1;32m      3\u001b[0m \u001b[0mmpl\u001b[0m\u001b[0;34m.\u001b[0m\u001b[0mplot\u001b[0m\u001b[0;34m(\u001b[0m\u001b[0mmydf\u001b[0m\u001b[0;34m[\u001b[0m\u001b[0;36m0\u001b[0m\u001b[0;34m]\u001b[0m\u001b[0;34m,\u001b[0m\u001b[0mmydf\u001b[0m\u001b[0;34m[\u001b[0m\u001b[0;36m1\u001b[0m\u001b[0;34m]\u001b[0m\u001b[0;34m)\u001b[0m\u001b[0;34m\u001b[0m\u001b[0;34m\u001b[0m\u001b[0m\n",
            "\u001b[0;32m/usr/local/lib/python3.10/dist-packages/pandas/core/generic.py\u001b[0m in \u001b[0;36m__nonzero__\u001b[0;34m(self)\u001b[0m\n\u001b[1;32m   1525\u001b[0m     \u001b[0;34m@\u001b[0m\u001b[0mfinal\u001b[0m\u001b[0;34m\u001b[0m\u001b[0;34m\u001b[0m\u001b[0m\n\u001b[1;32m   1526\u001b[0m     \u001b[0;32mdef\u001b[0m \u001b[0m__nonzero__\u001b[0m\u001b[0;34m(\u001b[0m\u001b[0mself\u001b[0m\u001b[0;34m)\u001b[0m \u001b[0;34m->\u001b[0m \u001b[0mNoReturn\u001b[0m\u001b[0;34m:\u001b[0m\u001b[0;34m\u001b[0m\u001b[0;34m\u001b[0m\u001b[0m\n\u001b[0;32m-> 1527\u001b[0;31m         raise ValueError(\n\u001b[0m\u001b[1;32m   1528\u001b[0m             \u001b[0;34mf\"The truth value of a {type(self).__name__} is ambiguous. \"\u001b[0m\u001b[0;34m\u001b[0m\u001b[0;34m\u001b[0m\u001b[0m\n\u001b[1;32m   1529\u001b[0m             \u001b[0;34m\"Use a.empty, a.bool(), a.item(), a.any() or a.all().\"\u001b[0m\u001b[0;34m\u001b[0m\u001b[0;34m\u001b[0m\u001b[0m\n",
            "\u001b[0;31mValueError\u001b[0m: The truth value of a Series is ambiguous. Use a.empty, a.bool(), a.item(), a.any() or a.all()."
          ]
        }
      ]
    },
    {
      "cell_type": "code",
      "source": [
        "[df[0] if (df['file']=='records/MA/traj1/follow_traj.txt')]\n",
        "\n"
      ],
      "metadata": {
        "colab": {
          "base_uri": "https://localhost:8080/",
          "height": 134
        },
        "id": "jVYHzwV6GXMP",
        "outputId": "fe63c82f-f23d-44af-cd63-a83761821ed7"
      },
      "execution_count": 94,
      "outputs": [
        {
          "output_type": "error",
          "ename": "SyntaxError",
          "evalue": "ignored",
          "traceback": [
            "\u001b[0;36m  File \u001b[0;32m\"<ipython-input-94-86596c65ac0a>\"\u001b[0;36m, line \u001b[0;32m1\u001b[0m\n\u001b[0;31m    [df[0] if (df['file']=='records/MA/traj1/follow_traj.txt')]\u001b[0m\n\u001b[0m     ^\u001b[0m\n\u001b[0;31mSyntaxError\u001b[0m\u001b[0;31m:\u001b[0m expected 'else' after 'if' expression\n"
          ]
        }
      ]
    },
    {
      "cell_type": "markdown",
      "source": [
        "# Apprentissage des données"
      ],
      "metadata": {
        "id": "wLz5SoyeLw01"
      }
    },
    {
      "cell_type": "markdown",
      "source": [
        "## Construction des données de validation et de test"
      ],
      "metadata": {
        "id": "3KWhtgXfL60L"
      }
    },
    {
      "cell_type": "code",
      "source": [],
      "metadata": {
        "id": "5TglDaGiMLhN"
      },
      "execution_count": null,
      "outputs": []
    },
    {
      "cell_type": "markdown",
      "source": [
        "## Apprentissage (scikit)"
      ],
      "metadata": {
        "id": "rGYM1-pRMBKf"
      }
    },
    {
      "cell_type": "code",
      "source": [],
      "metadata": {
        "id": "cRrrpeOTMMa7"
      },
      "execution_count": null,
      "outputs": []
    },
    {
      "cell_type": "markdown",
      "source": [
        "# Apprentissage (keras)"
      ],
      "metadata": {
        "id": "88f27_YxMFcB"
      }
    },
    {
      "cell_type": "code",
      "source": [],
      "metadata": {
        "id": "FciRpp5LMNoH"
      },
      "execution_count": null,
      "outputs": []
    }
  ]
}